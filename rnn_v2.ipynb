{
 "cells": [
  {
   "cell_type": "code",
   "execution_count": null,
   "metadata": {},
   "outputs": [],
   "source": [
    "import tensorflow as tf\n",
    "import pandas as pd\n",
    "import numpy as np\n",
    "import math \n",
    "from sklearn.model_selection import train_test_split\n",
    "from sklearn.preprocessing import StandardScaler\n",
    "from sklearn.preprocessing import MinMaxScaler\n",
    "from sklearn.metrics import mean_squared_error\n",
    "from tensorflow.keras.models import Sequential\n",
    "from tensorflow.keras.layers import SimpleRNN\n",
    "from tensorflow.keras.layers import Dense\n",
    "from tensorflow.keras.layers import Dropout\n",
    "from tensorflow.keras.callbacks import EarlyStopping\n",
    "import matplotlib.pyplot as plt\n",
    "import itertools"
   ]
  },
  {
   "cell_type": "code",
   "execution_count": null,
   "metadata": {},
   "outputs": [],
   "source": [
    "def load_data(filepath):\n",
    "    return pd.read_csv(filepath, parse_dates=['Date'])"
   ]
  },
  {
   "cell_type": "code",
   "execution_count": null,
   "metadata": {},
   "outputs": [],
   "source": [
    "def create_sequences(data, target, n_steps):\n",
    "    X, y = [], []\n",
    "    for i in range(len(data) - n_steps):\n",
    "        X.append(data[i:(i + n_steps)])\n",
    "        y.append(target[i + n_steps])\n",
    "    return np.array(X), np.array(y)"
   ]
  },
  {
   "cell_type": "code",
   "execution_count": null,
   "metadata": {},
   "outputs": [],
   "source": [
    "def modify_data(data):\n",
    "    result = None\n",
    "    # print(data)\n",
    "\n",
    "    # copy LMCADY_acu_5d_log into a new column ACU_5D and shift it by 5 days\n",
    "    data['ACU_5D'] = data['LMCADY_acu_5d_log']\n",
    "    data['ACU_5D'] = data['ACU_5D'].shift(5)\n",
    "\n",
    "    data.dropna(inplace=True)\n",
    "\n",
    "    result = data\n",
    "    # print(result.head(10))\n",
    "    return result"
   ]
  },
  {
   "cell_type": "code",
   "execution_count": null,
   "metadata": {},
   "outputs": [],
   "source": [
    "def prepare_data(df, target_column, n_steps):\n",
    "\n",
    "    df = modify_data(df)\n",
    "\n",
    "    # print(df.head(10))\n",
    "\n",
    "    features = df.drop(columns=[target_column, 'LMCADY_std_5d_log'])\n",
    "    print(features.head(10))\n",
    "    features = features.drop(columns = ['Date'])\n",
    "\n",
    "    print(\"Features utilizados:\",features.columns)\n",
    "\n",
    "    target = df[target_column]\n",
    "\n",
    "    scaler = StandardScaler()\n",
    "    features_scaled = scaler.fit_transform(features)\n",
    "\n",
    "    X, y = create_sequences(features_scaled, target, n_steps)\n",
    "    X_train, X_test, y_train, y_test = train_test_split(X, y, test_size=0.15, shuffle = False)\n",
    "\n",
    "    return X_train, X_test, y_train, y_test"
   ]
  },
  {
   "cell_type": "code",
   "execution_count": null,
   "metadata": {},
   "outputs": [],
   "source": [
    "def rmse(y_true, y_pred):\n",
    "    return tf.sqrt(tf.reduce_mean(tf.square(y_true - y_pred)))"
   ]
  },
  {
   "cell_type": "code",
   "execution_count": null,
   "metadata": {},
   "outputs": [],
   "source": [
    "def build_model(input_shape, md_prm: dict):\n",
    "    model = Sequential()\n",
    "    model.add(SimpleRNN(50, activation='relu', input_shape=input_shape))\n",
    "    model.add(Dropout(0.2))\n",
    "    model.add(Dense(1))\n",
    "    \n",
    "    model.compile(optimizer='adam', loss='mean_squared_error')\n",
    "    return model"
   ]
  },
  {
   "cell_type": "code",
   "execution_count": null,
   "metadata": {},
   "outputs": [],
   "source": [
    "def train_model(model, X_train, y_train, epochs, batch_size, verbose):\n",
    "    early_stopping = EarlyStopping(\n",
    "        monitor             ='val_rmse',\n",
    "        patience            =10,\n",
    "        verbose             =1,\n",
    "        restore_best_weights=True\n",
    "    )\n",
    "    history = model.fit(\n",
    "        X_train, y_train,\n",
    "        epochs          =epochs,\n",
    "        batch_size      =batch_size,\n",
    "        verbose         =verbose,\n",
    "        validation_split=0.1,\n",
    "        callbacks       =[early_stopping]\n",
    "    )\n",
    "    return history"
   ]
  },
  {
   "cell_type": "code",
   "execution_count": null,
   "metadata": {},
   "outputs": [],
   "source": [
    "def evaluate_model(model, X_test, y_test):\n",
    "    return model.evaluate(X_test, y_test)"
   ]
  },
  {
   "cell_type": "code",
   "execution_count": null,
   "metadata": {},
   "outputs": [],
   "source": [
    "def plot_predictions(y_true, y_pred, n, title=\"Prediction vs Actual Data\", markersize=4):\n",
    "    # Asegurarse de que n no sea mayor que el número de puntos disponibles\n",
    "    n = min(n, len(y_true), len(y_pred))\n",
    "\n",
    "    # Usar slicing para obtener los últimos n valores\n",
    "    y_true = y_true[-n:]\n",
    "    y_pred = y_pred[-n:]\n",
    "\n",
    "    plt.figure(figsize=(12, 2))\n",
    "    plt.plot(y_true, label='Actual Values', marker='o', linestyle='-', markersize=markersize)\n",
    "    plt.plot(y_pred, label='Predicted Values', marker='x', linestyle='--', markersize=markersize)\n",
    "\n",
    "    plt.axhline(y=0, color='gray', linestyle='--', linewidth=0.7) \n",
    "\n",
    "    plt.title(title)\n",
    "    plt.xlabel('Index')\n",
    "    plt.ylabel('Value')\n",
    "    plt.legend()\n",
    "    plt.show()"
   ]
  },
  {
   "cell_type": "code",
   "execution_count": null,
   "metadata": {},
   "outputs": [],
   "source": [
    "# n_steps_options = [5, 10, 15, 20, 25, 30]\n",
    "# batch_size_options = [32, 64, 128, 256]\n",
    "# epochs_options = [100, 200, 300, 400]\n",
    "n_steps_options = [5]\n",
    "batch_size_options = [32]\n",
    "epochs_options = [100]\n",
    "rnn_units_options = [50]\n",
    "\n",
    "# rnn_units_options = [50, 100, 150, 200]\n",
    "# activation_options = ['relu', 'tanh']\n",
    "# dropout_options = [0.1, 0.2, 0.3, 0.4]\n",
    "rnn_units_options = [50]\n",
    "activation_options = ['relu']\n",
    "dropout_options = [0.2]\n",
    "\n",
    "model_params_commbinations = list(itertools.product(\n",
    "    n_steps_options, \n",
    "    rnn_units_options, \n",
    "    activation_options, \n",
    "    dropout_options,\n",
    "    batch_size_options,\n",
    "    epochs_options\n",
    "))\n",
    "target_column = 'LMCADY_acu_5d_log'"
   ]
  },
  {
   "cell_type": "code",
   "execution_count": null,
   "metadata": {},
   "outputs": [],
   "source": [
    "n_iterations = len(model_params_commbinations)\n",
    "print(\"Total iterations: {}\".format(n_iterations))"
   ]
  },
  {
   "cell_type": "code",
   "execution_count": null,
   "metadata": {},
   "outputs": [],
   "source": [
    "def run_model_iterations():\n",
    "    top_results = []\n",
    "    i = 1\n",
    "    for n_steps, rnn_units, activation, dropout, batch_size, epochs in model_params_commbinations:\n",
    "        try:\n",
    "            df = load_data(\"./input/copper_log_returns_5d_final.csv\")\n",
    "            print(\"\\nIteration {}/{}\".format(i, n_iterations))\n",
    "            print(\"n_steps: {}, rnn_units: {}, activation: {}, dropout: {}\".format(n_steps, rnn_units, activation, dropout))\n",
    "\n",
    "            X_train, X_test, y_train, y_test = prepare_data(df, target_column, n_steps)\n",
    "\n",
    "            model_params = {\n",
    "                'n_steps': n_steps,\n",
    "                'rnn_units': rnn_units,\n",
    "                'activation': activation,\n",
    "                'dropout': dropout\n",
    "            }\n",
    "\n",
    "            model = build_model((X_train.shape[1], X_train.shape[2]), model_params)\n",
    "            print(model.summary())\n",
    "            history = train_model(model, X_train, y_train, epochs=epochs, batch_size=batch_size, verbose=0)\n",
    "\n",
    "            y_pred = model.predict(X_test)\n",
    "            rmse_score = math.sqrt(mean_squared_error(y_test, y_pred))\n",
    "            std_dev = np.std(y_test)\n",
    "\n",
    "            diff = rmse_score - std_dev\n",
    "\n",
    "            result = {\n",
    "                'n_steps': n_steps,\n",
    "                'rnn_units': rnn_units,\n",
    "                'activation': activation,\n",
    "                'dropout': dropout,\n",
    "                'batch_size': batch_size,\n",
    "                'epochs': epochs,\n",
    "                'rmse': rmse_score,\n",
    "                'std_dev': std_dev,\n",
    "                'diff': diff,\n",
    "                'predictions': y_pred,\n",
    "                'true_values': y_test\n",
    "            }\n",
    "\n",
    "            top_results.append(result)\n",
    "            top_results = sorted(top_results, key=lambda x: x['diff'], reverse=True)[:5]\n",
    "\n",
    "            print(\"RMSE: {}, STD_DEV: {}, DIFF: {}\".format(rmse_score, std_dev, diff))\n",
    "            print(\"Params: \", model_params)\n",
    "            print(\"Iteration {}/{} completed\".format(i, n_iterations))\n",
    "\n",
    "        except Exception as e:\n",
    "            print(f\"An error occurred: {e}. Skipping this combination.\")\n",
    "        i+=1\n",
    "\n",
    "    return top_results"
   ]
  },
  {
   "cell_type": "code",
   "execution_count": null,
   "metadata": {},
   "outputs": [],
   "source": [
    "top_3_results = run_model_iterations()"
   ]
  },
  {
   "cell_type": "code",
   "execution_count": null,
   "metadata": {},
   "outputs": [],
   "source": [
    "for i,result in enumerate(top_3_results,1):\n",
    "    print(f\"Top {i+1} result: {result}\")\n",
    "    plot_predictions(result['true_values'], result['predictions'], 100, title=f\"Top {i+1} result: Prediction vs Actual Data\")"
   ]
  }
 ],
 "metadata": {
  "kernelspec": {
   "display_name": "Python 3",
   "language": "python",
   "name": "python3"
  },
  "language_info": {
   "name": "python",
   "version": "3.10.12"
  }
 },
 "nbformat": 4,
 "nbformat_minor": 2
}
