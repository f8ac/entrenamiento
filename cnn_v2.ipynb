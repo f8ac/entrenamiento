{
  "cells": [
    {
      "cell_type": "code",
      "execution_count": 297,
      "metadata": {
        "id": "Gt8-YM0MVump"
      },
      "outputs": [],
      "source": [
        "import matplotlib.pyplot as plt\n",
        "import tensorflow as tf\n",
        "import itertools\n",
        "import pandas as pd\n",
        "import numpy as np\n",
        "from math import sqrt\n",
        "from sklearn.metrics import mean_squared_error\n",
        "from sklearn.preprocessing import StandardScaler\n",
        "from sklearn.preprocessing import MinMaxScaler\n",
        "from sklearn.model_selection import train_test_split\n",
        "from tensorflow.keras.models import Sequential\n",
        "from tensorflow.keras.layers import Conv1D, MaxPooling1D, Dense, Flatten, Dropout\n",
        "from tensorflow.keras.callbacks import EarlyStopping\n",
        "from tensorflow.keras.optimizers import Adam"
      ]
    },
    {
      "cell_type": "markdown",
      "metadata": {
        "id": "HKABH4uzfZCu"
      },
      "source": [
        "### 1. Carga de datos"
      ]
    },
    {
      "cell_type": "code",
      "execution_count": 298,
      "metadata": {
        "id": "lLQwmX5ofwyd"
      },
      "outputs": [],
      "source": [
        "def load_data(filepath):\n",
        "    return pd.read_csv(filepath, parse_dates=['Date'])"
      ]
    },
    {
      "cell_type": "markdown",
      "metadata": {
        "id": "vOjp4s-Tf31L"
      },
      "source": [
        "### 2. Division y tratamiento de datos"
      ]
    },
    {
      "cell_type": "code",
      "execution_count": 299,
      "metadata": {
        "id": "0B_G_8QM67G3"
      },
      "outputs": [],
      "source": [
        "def create_sequences(data, target, n_steps):\n",
        "    X, y = [], []\n",
        "    for i in range(len(data) - n_steps):\n",
        "        X.append(data[i:(i + n_steps)])\n",
        "        y.append(target[i + n_steps])\n",
        "    return np.array(X), np.array(y)"
      ]
    },
    {
      "cell_type": "code",
      "execution_count": 300,
      "metadata": {
        "id": "vLsjFyuzWou6"
      },
      "outputs": [],
      "source": [
        "def prepare_data(df, target_column, n_steps):\n",
        "    features = df.drop(columns=[target_column, 'LMCADY_std_5d_log'])\n",
        "\n",
        "    # agregar dia mes y dia de la semana\n",
        "    # features['Month'] = df['Date'].dt.month\n",
        "    # features['Day'] = df['Date'].dt.day\n",
        "    # features['Weekday'] = df['Date'].dt.weekday\n",
        "\n",
        "    features = features.drop(columns = ['Date'])\n",
        "\n",
        "    target = df[target_column]\n",
        "\n",
        "    scaler = StandardScaler()\n",
        "    features_scaled = scaler.fit_transform(features)\n",
        "\n",
        "    X, y = create_sequences(features_scaled, target, n_steps)\n",
        "    X_train, X_test, y_train, y_test = train_test_split(X, y, test_size=0.15, shuffle = False)\n",
        "\n",
        "    return X_train, X_test, y_train, y_test"
      ]
    },
    {
      "cell_type": "markdown",
      "metadata": {
        "id": "H700VMkZgLJe"
      },
      "source": [
        "### 3. Arquitectura y compilacion"
      ]
    },
    {
      "cell_type": "code",
      "execution_count": 301,
      "metadata": {
        "id": "N7zCyG1Yu9h_"
      },
      "outputs": [],
      "source": [
        "def rmse(y_true, y_pred):\n",
        "    return tf.sqrt(tf.reduce_mean(tf.square(y_true - y_pred)))"
      ]
    },
    {
      "cell_type": "code",
      "execution_count": 302,
      "metadata": {
        "id": "t8Uw2YeHgLQL"
      },
      "outputs": [],
      "source": [
        "def build_model(input_shape, md_prm: dict):\n",
        "    model = Sequential([\n",
        "        Conv1D(filters=md_prm['filters']*2, kernel_size=md_prm['kernel_size'], activation='relu', input_shape=input_shape),\n",
        "        Conv1D(filters=md_prm['filters'], kernel_size=md_prm['kernel_size'], activation='relu'),\n",
        "        MaxPooling1D(pool_size=md_prm['pool_size']),\n",
        "        Dropout(md_prm['dropout']/2),\n",
        "        Flatten(),\n",
        "        Dense(md_prm['dense_units']*2, activation='relu'),\n",
        "        Dense(md_prm['dense_units'], activation='relu'),\n",
        "        Dense(1)\n",
        "    ])\n",
        "    model.compile(optimizer=Adam(learning_rate=0.0005), loss='mse', metrics=[rmse])\n",
        "    return model"
      ]
    },
    {
      "cell_type": "markdown",
      "metadata": {
        "id": "5woVERQcgCrU"
      },
      "source": [
        "### 4. Entrenamiento del modelo"
      ]
    },
    {
      "cell_type": "code",
      "execution_count": 303,
      "metadata": {
        "id": "ngtZFZBkgICz"
      },
      "outputs": [],
      "source": [
        "def train_model(model, X_train, y_train, epochs, batch_size, verbose):\n",
        "    early_stopping = EarlyStopping(\n",
        "        monitor             ='val_rmse',\n",
        "        patience            =20,\n",
        "        verbose             =1,\n",
        "        restore_best_weights=True\n",
        "    )\n",
        "    history = model.fit(\n",
        "        X_train, y_train,\n",
        "        epochs          =epochs,\n",
        "        batch_size      =batch_size,\n",
        "        verbose         =verbose,\n",
        "        validation_split=0.1,\n",
        "        callbacks       =[early_stopping]\n",
        "    )\n",
        "    return history"
      ]
    },
    {
      "cell_type": "code",
      "execution_count": 304,
      "metadata": {
        "id": "bRoGIfyPvOCS"
      },
      "outputs": [],
      "source": [
        "# y_train.std()"
      ]
    },
    {
      "cell_type": "code",
      "execution_count": 305,
      "metadata": {
        "id": "lfbMsqrGsiP3"
      },
      "outputs": [],
      "source": [
        "# history = train_model(model, X_train, y_train, epochs=100, batch_size=32,)"
      ]
    },
    {
      "cell_type": "markdown",
      "metadata": {
        "id": "bbo1HI5EgIJb"
      },
      "source": [
        "### 5. Evaluacion de resultado"
      ]
    },
    {
      "cell_type": "code",
      "execution_count": 306,
      "metadata": {
        "id": "Rr3y9GkGgWKi"
      },
      "outputs": [],
      "source": [
        "def evaluate_model(model, X_test, y_test):\n",
        "    loss = model.evaluate(X_test, y_test)\n",
        "    print(f'Test Loss: {loss}')"
      ]
    },
    {
      "cell_type": "code",
      "execution_count": 307,
      "metadata": {
        "id": "bS4-ZX2lwkqv"
      },
      "outputs": [],
      "source": [
        "# evaluate_model(model, X_test, y_test)"
      ]
    },
    {
      "cell_type": "code",
      "execution_count": 308,
      "metadata": {
        "id": "l2ZiI96sza9o"
      },
      "outputs": [],
      "source": [
        "def plot_history(history):\n",
        "    # plotear loss de entrenamiento y validación\n",
        "    figsize = (8,2)\n",
        "\n",
        "    plt.figure(figsize=figsize)\n",
        "    plt.plot(history.history['loss'], label='Training loss')\n",
        "    plt.plot(history.history['val_loss'], label='Validation loss')\n",
        "    plt.title('Model Loss')\n",
        "    plt.ylabel('Loss')\n",
        "    plt.xlabel('Epoch')\n",
        "    plt.legend()\n",
        "    plt.grid(True)\n",
        "    plt.show()\n",
        "\n",
        "    # otras metricas\n",
        "    for key in history.history.keys():\n",
        "        if key not in ['loss', 'val_loss', 'val_rmse']:\n",
        "            plt.figure(figsize=figsize)\n",
        "            plt.plot(history.history[key], label=f'Training {key}')\n",
        "            plt.plot(history.history[f'val_{key}'], label=f'Validation {key}')\n",
        "            plt.title(f'Model {key.capitalize()}')\n",
        "            plt.ylabel(key.capitalize())\n",
        "            plt.xlabel('Epoch')\n",
        "            plt.legend()\n",
        "            plt.grid(True)\n",
        "            plt.show()"
      ]
    },
    {
      "cell_type": "code",
      "execution_count": 309,
      "metadata": {},
      "outputs": [],
      "source": [
        "def plot_predictions(y_true, y_pred, title=\"Prediction vs Actual Data\"):\n",
        "    plt.figure(figsize=(12,2))\n",
        "    plt.plot(y_true, label='Actual Values', marker='o', linestyle='-')\n",
        "    plt.plot(y_pred, label='Predicted Values', marker='x', linestyle='--')\n",
        "    \n",
        "    plt.title(title)\n",
        "    plt.xlabel('Index')\n",
        "    plt.ylabel('Value')\n",
        "    plt.legend()\n",
        "    plt.show()"
      ]
    },
    {
      "cell_type": "code",
      "execution_count": 310,
      "metadata": {
        "id": "NdyR28lz3ivu"
      },
      "outputs": [],
      "source": [
        "# df = load_data(\"./input/copper_log_returns_5d_final.csv\")\n",
        "# n_steps = 25\n",
        "# target_column = 'LMCADY_acu_5d_log'\n",
        "# X_train, X_test, y_train, y_test = prepare_data(df, target_column, n_steps)\n",
        "# y_test.std()\n",
        "# model = build_model(X_train.shape[1:])\n",
        "# history = train_model(model, X_train, y_train, epochs=100, batch_size=16)\n",
        "# evaluate_model(model, X_test, y_test)"
      ]
    },
    {
      "cell_type": "code",
      "execution_count": 311,
      "metadata": {
        "id": "pKC8oBqj7LLr"
      },
      "outputs": [],
      "source": [
        "# n_steps_options     = [25, 50, 100, 150, 200]\n",
        "# batch_size_options  = [32, 64, 128, 256]\n",
        "n_steps_options     = [10]\n",
        "batch_size_options  = [16]\n",
        "epochs_options      = [100]\n",
        "\n",
        "filters_options     = [128]\n",
        "kernel_size_options = [2]\n",
        "pool_size_options   = [1]\n",
        "dense_units_options = [50]\n",
        "dense_activation_options = ['relu']\n",
        "activation_options  = ['relu']\n",
        "dropout_options     = [0.1]\n",
        "\n",
        "\n",
        "model_params_combinations = list(itertools.product(\n",
        "    filters_options, kernel_size_options, pool_size_options, dense_units_options,\n",
        "    dense_activation_options, activation_options, dropout_options\n",
        "))\n",
        "target_column = 'LMCADY_acu_5d_log'"
      ]
    },
    {
      "cell_type": "code",
      "execution_count": 312,
      "metadata": {},
      "outputs": [
        {
          "name": "stdout",
          "output_type": "stream",
          "text": [
            "Total iterations: 1\n"
          ]
        }
      ],
      "source": [
        "# number of iterations\n",
        "n_iter = len(n_steps_options) * len(batch_size_options) * len(epochs_options) * len(model_params_combinations)\n",
        "print(f'Total iterations: {n_iter}')"
      ]
    },
    {
      "cell_type": "code",
      "execution_count": 313,
      "metadata": {
        "id": "ZVH5Wcb9WovA"
      },
      "outputs": [],
      "source": [
        "def run_model_iterations():\n",
        "    top_results = []\n",
        "\n",
        "    i = 1\n",
        "    for n_steps, batch_size, epochs, (filters, kernel_size, pool_size, dense_units, dense_activation, activation, dropout) in itertools.product(n_steps_options, batch_size_options, epochs_options, model_params_combinations):\n",
        "        try:\n",
        "            # Carga de datos\n",
        "            df = load_data(\"./input/copper_log_returns_5d_final.csv\")\n",
        "\n",
        "            print(f\"\\n{i}) Testing with n_steps={n_steps}, batch_size={batch_size}, epochs={epochs}, filters={filters}\")\n",
        "\n",
        "            # Preparación de los datos\n",
        "            X_train, X_test, y_train, y_test = prepare_data(df, 'LMCADY_acu_5d_log', n_steps)\n",
        "\n",
        "            # print(f\"X_train shape: {X_train.shape}, X_test shape: {X_test.shape}, y_train shape: {y_train.shape}, y_test shape: {y_test.shape}\")\n",
        "\n",
        "            # show a sample of X_train\n",
        "            print(f\"X_train[1]: {X_train[1]}\")\n",
        "            print(\"X_train[1] shape: \", X_train[1].shape)\n",
        "\n",
        "            print(\"X_train[2]: \", X_train[2])\n",
        "            print(\"X_train[2] shape: \", X_train[2].shape)\n",
        "\n",
        "            # print(\"X_train\",X_train)\n",
        "            # print(\"X_train shape: \", X_train.shape)\n",
        "            \n",
        "\n",
        "            # Configuración de parámetros del modelo\n",
        "            model_params = {\n",
        "                'filters'           : filters,\n",
        "                'kernel_size'       : kernel_size,\n",
        "                'pool_size'         : pool_size,\n",
        "                'dense_units'       : dense_units,\n",
        "                'dense_activation'  : dense_activation,\n",
        "                'activation'        : activation,\n",
        "                'dropout'           : dropout\n",
        "            }\n",
        "\n",
        "            # Construcción y entrenamiento del modelo\n",
        "            model   = build_model(X_train.shape[1:], model_params)\n",
        "\n",
        "            history = train_model(model, X_train, y_train, epochs=epochs, batch_size=batch_size, verbose=1)\n",
        "\n",
        "            # Evaluación del modelo\n",
        "            y_pred  = model.predict(X_test)\n",
        "            rmse_ob = sqrt(mean_squared_error(y_test, y_pred))\n",
        "            std_dev = y_test.std()\n",
        "\n",
        "            # Calcular la diferencia absoluta\n",
        "            difference = rmse_ob - std_dev\n",
        "\n",
        "            # Guardar y ordenar resultados basados en la diferencia absoluta\n",
        "            result = {\n",
        "                'difference': difference,\n",
        "                'rmse'      : rmse_ob,\n",
        "                'std_dev'   : std_dev,\n",
        "                'params'    : model_params,\n",
        "                'history'   : history,\n",
        "                'batch_size': batch_size,\n",
        "                'n_steps'   : n_steps,\n",
        "                'predictions': y_pred,\n",
        "                'actuals'   : y_test\n",
        "            }\n",
        "            top_results.append(result)\n",
        "            top_results = sorted(top_results, key=lambda x: x['difference'])[:5]\n",
        "\n",
        "            print(f\"\\n{i}) RMSE: {rmse_ob:.6f}, Std Dev: {std_dev:.6f}, Difference: {difference:.6f}\")\n",
        "            print(f\"Tested with n_steps={n_steps}, batch_size={batch_size}, epochs={epochs}, filters={filters}\")\n",
        "            print(f\"Model params: {model_params}\")\n",
        "\n",
        "\n",
        "        except Exception as e:\n",
        "            print(f\"An error occurred: {e}. Skipping this combination.\")\n",
        "        i += 1\n",
        "\n",
        "    return top_results"
      ]
    },
    {
      "cell_type": "code",
      "execution_count": 314,
      "metadata": {
        "colab": {
          "base_uri": "https://localhost:8080/"
        },
        "id": "I3kZNiLFWovB",
        "outputId": "4d315d8d-e921-4bc6-e033-cab068093886"
      },
      "outputs": [
        {
          "name": "stdout",
          "output_type": "stream",
          "text": [
            "\n",
            "1) Testing with n_steps=10, batch_size=16, epochs=100, filters=128\n",
            "X_train[1]: [[ 0.79831889  0.80040695 -1.03757587 -0.06904589  1.39983903  0.35865953\n",
            "   1.36157729  0.74946327]\n",
            " [ 0.65370742  0.60462075 -1.02227619  1.86565812 -1.57814758  1.8614009\n",
            "  -0.03207981  0.06255857]\n",
            " [-0.30878993 -0.29283708  1.22321939 -0.58718539 -0.26370638 -0.92710464\n",
            "  -1.10227386 -1.05509046]\n",
            " [ 0.59240196  0.57473072 -1.43065956 -1.23632129  0.40135445 -1.51780979\n",
            "   1.66911171  0.51858413]\n",
            " [ 0.66191337  0.68054726  0.14205016  1.60887117  1.36516469  1.49104895\n",
            "  -0.2648936  -0.1231808 ]\n",
            " [-0.7032432  -0.73027242 -1.46014117 -0.02871827 -1.3862384   0.26120267\n",
            "   0.49620596  0.22824425]\n",
            " [ 0.41628695  0.37328803  0.4929381  -0.14820204  0.35898175  0.0506217\n",
            "  -0.08477418 -0.36823445]\n",
            " [ 0.67590171  0.64846524 -0.53682876  0.4674234  -0.04599269  0.68828483\n",
            "  -0.87925645 -0.77052553]\n",
            " [ 0.38985439  0.34814812  0.2665992  -1.26573066  0.94268988 -1.13074091\n",
            "  -0.1917841   0.03763021]\n",
            " [ 0.23917583  0.28202506 -1.13720639 -0.36432871  0.83409413 -0.33517966\n",
            "   1.73597629  0.6831285 ]]\n",
            "X_train[1] shape:  (10, 8)\n",
            "X_train[2]:  [[ 0.65370742  0.60462075 -1.02227619  1.86565812 -1.57814758  1.8614009\n",
            "  -0.03207981  0.06255857]\n",
            " [-0.30878993 -0.29283708  1.22321939 -0.58718539 -0.26370638 -0.92710464\n",
            "  -1.10227386 -1.05509046]\n",
            " [ 0.59240196  0.57473072 -1.43065956 -1.23632129  0.40135445 -1.51780979\n",
            "   1.66911171  0.51858413]\n",
            " [ 0.66191337  0.68054726  0.14205016  1.60887117  1.36516469  1.49104895\n",
            "  -0.2648936  -0.1231808 ]\n",
            " [-0.7032432  -0.73027242 -1.46014117 -0.02871827 -1.3862384   0.26120267\n",
            "   0.49620596  0.22824425]\n",
            " [ 0.41628695  0.37328803  0.4929381  -0.14820204  0.35898175  0.0506217\n",
            "  -0.08477418 -0.36823445]\n",
            " [ 0.67590171  0.64846524 -0.53682876  0.4674234  -0.04599269  0.68828483\n",
            "  -0.87925645 -0.77052553]\n",
            " [ 0.38985439  0.34814812  0.2665992  -1.26573066  0.94268988 -1.13074091\n",
            "  -0.1917841   0.03763021]\n",
            " [ 0.23917583  0.28202506 -1.13720639 -0.36432871  0.83409413 -0.33517966\n",
            "   1.73597629  0.6831285 ]\n",
            " [-0.59748777 -0.58915655 -0.49892594 -1.2304008  -0.07361286 -1.29759383\n",
            "  -0.26764371 -0.33835783]]\n",
            "X_train[2] shape:  (10, 8)\n",
            "Epoch 1/100\n",
            "265/265 [==============================] - 4s 8ms/step - loss: 0.0021 - rmse: 0.0429 - val_loss: 8.8354e-04 - val_rmse: 0.0264\n",
            "Epoch 2/100\n",
            "265/265 [==============================] - 0s 2ms/step - loss: 0.0013 - rmse: 0.0347 - val_loss: 8.0639e-04 - val_rmse: 0.0255\n",
            "Epoch 3/100\n",
            "265/265 [==============================] - 0s 2ms/step - loss: 0.0012 - rmse: 0.0336 - val_loss: 8.8402e-04 - val_rmse: 0.0264\n",
            "Epoch 4/100\n",
            "265/265 [==============================] - 0s 2ms/step - loss: 0.0012 - rmse: 0.0331 - val_loss: 8.5332e-04 - val_rmse: 0.0258\n",
            "Epoch 5/100\n",
            "265/265 [==============================] - 0s 2ms/step - loss: 0.0011 - rmse: 0.0323 - val_loss: 0.0010 - val_rmse: 0.0284\n",
            "Epoch 6/100\n",
            "265/265 [==============================] - 0s 2ms/step - loss: 9.6547e-04 - rmse: 0.0303 - val_loss: 0.0010 - val_rmse: 0.0274\n",
            "Epoch 7/100\n",
            "265/265 [==============================] - 0s 2ms/step - loss: 9.1745e-04 - rmse: 0.0297 - val_loss: 9.9794e-04 - val_rmse: 0.0271\n",
            "Epoch 8/100\n",
            "265/265 [==============================] - 0s 2ms/step - loss: 8.4671e-04 - rmse: 0.0283 - val_loss: 0.0010 - val_rmse: 0.0282\n",
            "Epoch 9/100\n",
            "265/265 [==============================] - 0s 2ms/step - loss: 8.6055e-04 - rmse: 0.0286 - val_loss: 9.5236e-04 - val_rmse: 0.0279\n",
            "Epoch 10/100\n",
            "265/265 [==============================] - 0s 1ms/step - loss: 7.7886e-04 - rmse: 0.0271 - val_loss: 0.0010 - val_rmse: 0.0281\n",
            "Epoch 11/100\n",
            "265/265 [==============================] - 0s 2ms/step - loss: 6.5266e-04 - rmse: 0.0250 - val_loss: 0.0011 - val_rmse: 0.0292\n",
            "Epoch 12/100\n",
            "265/265 [==============================] - 0s 2ms/step - loss: 5.8691e-04 - rmse: 0.0236 - val_loss: 0.0011 - val_rmse: 0.0294\n",
            "Epoch 13/100\n",
            "265/265 [==============================] - 0s 2ms/step - loss: 5.2837e-04 - rmse: 0.0224 - val_loss: 0.0010 - val_rmse: 0.0286\n",
            "Epoch 14/100\n",
            "265/265 [==============================] - 0s 2ms/step - loss: 5.2457e-04 - rmse: 0.0222 - val_loss: 0.0010 - val_rmse: 0.0292\n",
            "Epoch 15/100\n",
            "265/265 [==============================] - 0s 1ms/step - loss: 4.3631e-04 - rmse: 0.0202 - val_loss: 9.9971e-04 - val_rmse: 0.0285\n",
            "Epoch 16/100\n",
            "265/265 [==============================] - 0s 2ms/step - loss: 3.5674e-04 - rmse: 0.0184 - val_loss: 9.3832e-04 - val_rmse: 0.0277\n",
            "Epoch 17/100\n",
            "265/265 [==============================] - 0s 2ms/step - loss: 3.6387e-04 - rmse: 0.0184 - val_loss: 9.8385e-04 - val_rmse: 0.0282\n",
            "Epoch 18/100\n",
            "265/265 [==============================] - 0s 2ms/step - loss: 2.8461e-04 - rmse: 0.0164 - val_loss: 0.0010 - val_rmse: 0.0294\n",
            "Epoch 19/100\n",
            "265/265 [==============================] - 0s 2ms/step - loss: 3.0013e-04 - rmse: 0.0164 - val_loss: 0.0011 - val_rmse: 0.0294\n",
            "Epoch 20/100\n",
            "265/265 [==============================] - 0s 2ms/step - loss: 2.5498e-04 - rmse: 0.0152 - val_loss: 0.0010 - val_rmse: 0.0285\n",
            "Epoch 21/100\n",
            "265/265 [==============================] - 0s 2ms/step - loss: 2.2414e-04 - rmse: 0.0144 - val_loss: 0.0010 - val_rmse: 0.0288\n",
            "Epoch 22/100\n",
            "235/265 [=========================>....] - ETA: 0s - loss: 2.0649e-04 - rmse: 0.0136Restoring model weights from the end of the best epoch: 2.\n",
            "265/265 [==============================] - 0s 2ms/step - loss: 2.0922e-04 - rmse: 0.0138 - val_loss: 0.0010 - val_rmse: 0.0290\n",
            "Epoch 22: early stopping\n",
            "26/26 [==============================] - 1s 15ms/step\n",
            "\n",
            "1) RMSE: 0.031223, Std Dev: 0.030667, Difference: 0.000556\n",
            "Tested with n_steps=10, batch_size=16, epochs=100, filters=128\n",
            "Model params: {'filters': 128, 'kernel_size': 2, 'pool_size': 1, 'dense_units': 50, 'dense_activation': 'relu', 'activation': 'relu', 'dropout': 0.1}\n"
          ]
        }
      ],
      "source": [
        "top_3_results = run_model_iterations()"
      ]
    },
    {
      "cell_type": "code",
      "execution_count": 315,
      "metadata": {
        "colab": {
          "base_uri": "https://localhost:8080/",
          "height": 1000
        },
        "id": "gWp7mllsiif9",
        "outputId": "ea926286-e23f-47ff-9313-925b55ae1e04"
      },
      "outputs": [
        {
          "name": "stdout",
          "output_type": "stream",
          "text": [
            "\n",
            "Top 1 Model\n",
            "Best RMSE: 0.031223 vs. a std of 0.030667\n",
            "Model parameters: {'filters': 128, 'kernel_size': 2, 'pool_size': 1, 'dense_units': 50, 'dense_activation': 'relu', 'activation': 'relu', 'dropout': 0.1}\n",
            "n_steps: 10, batch_size: 16\n"
          ]
        },
        {
          "data": {
            "image/png": "[encoded data removed]",
            "text/plain": [
              "<Figure size 1200x200 with 1 Axes>"
            ]
          },
          "metadata": {},
          "output_type": "display_data"
        },
        {
          "name": "stdout",
          "output_type": "stream",
          "text": [
            "Predicted: 0.014300, Actual: 0.052256\n",
            "Predicted: -0.005192, Actual: 0.045141\n",
            "Predicted: 0.008959, Actual: 0.032116\n",
            "Predicted: -0.000793, Actual: 0.012002\n",
            "Predicted: -0.000809, Actual: 0.033687\n",
            "Predicted: 0.004915, Actual: 0.068759\n",
            "Predicted: 0.012545, Actual: 0.080933\n",
            "Predicted: 0.007379, Actual: 0.091537\n",
            "Predicted: 0.000749, Actual: 0.105688\n",
            "Predicted: 0.002208, Actual: 0.098029\n"
          ]
        }
      ],
      "source": [
        "for i, result in enumerate(top_3_results, 1):\n",
        "    rmse            = result['rmse']\n",
        "    model_params    = result['params']\n",
        "    history         = result['history']\n",
        "    batch_size      = result['batch_size']\n",
        "    n_steps         = result['n_steps']\n",
        "    y_test          = result['actuals']\n",
        "    y_pred          = result['predictions']\n",
        "\n",
        "    print(f\"\\nTop {i} Model\")\n",
        "    print(f\"Best RMSE: {rmse:.6f} vs. a std of {y_test.std():.6f}\")\n",
        "    print(f\"Model parameters: {model_params}\")\n",
        "    print(f\"n_steps: {n_steps}, batch_size: {batch_size}\")\n",
        "\n",
        "    # plot_history(history)\n",
        "\n",
        "    plot_predictions(y_test, y_pred, title=f\"Top {i} Model Predictions vs Actual\")\n",
        "    \n",
        "    # print the values of predictions and actuals one next to the other(only the first 10)\n",
        "    for pred, actual in zip(y_pred[:10], y_test[:10]):\n",
        "        print(f\"Predicted: {pred[0]:.6f}, Actual: {actual:.6f}\")\n",
        "    "
      ]
    }
  ],
  "metadata": {
    "colab": {
      "provenance": []
    },
    "kernelspec": {
      "display_name": "Python 3",
      "name": "python3"
    },
    "language_info": {
      "codemirror_mode": {
        "name": "ipython",
        "version": 3
      },
      "file_extension": ".py",
      "mimetype": "text/x-python",
      "name": "python",
      "nbconvert_exporter": "python",
      "pygments_lexer": "ipython3",
      "version": "3.10.12"
    }
  },
  "nbformat": 4,
  "nbformat_minor": 0
}
