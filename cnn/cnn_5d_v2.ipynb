{
 "cells": [
  {
   "cell_type": "code",
   "execution_count": 1,
   "metadata": {},
   "outputs": [
    {
     "name": "stderr",
     "output_type": "stream",
     "text": [
      "/tmp/ipykernel_60003/3824868780.py:1: DeprecationWarning: \n",
      "Pyarrow will become a required dependency of pandas in the next major release of pandas (pandas 3.0),\n",
      "(to allow more performant data types, such as the Arrow string type, and better interoperability with other libraries)\n",
      "but was not found to be installed on your system.\n",
      "If this would cause problems for you,\n",
      "please provide us feedback at https://github.com/pandas-dev/pandas/issues/54466\n",
      "        \n",
      "  import pandas as pd\n",
      "2024-04-28 03:34:06.367346: I tensorflow/core/util/port.cc:113] oneDNN custom operations are on. You may see slightly different numerical results due to floating-point round-off errors from different computation orders. To turn them off, set the environment variable `TF_ENABLE_ONEDNN_OPTS=0`.\n",
      "2024-04-28 03:34:06.387698: E external/local_xla/xla/stream_executor/cuda/cuda_dnn.cc:9261] Unable to register cuDNN factory: Attempting to register factory for plugin cuDNN when one has already been registered\n",
      "2024-04-28 03:34:06.387714: E external/local_xla/xla/stream_executor/cuda/cuda_fft.cc:607] Unable to register cuFFT factory: Attempting to register factory for plugin cuFFT when one has already been registered\n",
      "2024-04-28 03:34:06.388266: E external/local_xla/xla/stream_executor/cuda/cuda_blas.cc:1515] Unable to register cuBLAS factory: Attempting to register factory for plugin cuBLAS when one has already been registered\n",
      "2024-04-28 03:34:06.392028: I tensorflow/core/platform/cpu_feature_guard.cc:182] This TensorFlow binary is optimized to use available CPU instructions in performance-critical operations.\n",
      "To enable the following instructions: AVX2 AVX_VNNI FMA, in other operations, rebuild TensorFlow with the appropriate compiler flags.\n",
      "2024-04-28 03:34:06.760054: W tensorflow/compiler/tf2tensorrt/utils/py_utils.cc:38] TF-TRT Warning: Could not find TensorRT\n"
     ]
    }
   ],
   "source": [
    "import pandas as pd\n",
    "import numpy as np\n",
    "from sklearn.model_selection import train_test_split\n",
    "from sklearn.preprocessing import MinMaxScaler\n",
    "from tensorflow.keras.models import Sequential\n",
    "from tensorflow.keras.layers import Conv1D, MaxPooling1D, Flatten, Dense, Dropout, BatchNormalization\n",
    "from tensorflow.keras.optimizers import Adam\n",
    "import tensorflow as tf"
   ]
  },
  {
   "cell_type": "code",
   "execution_count": 2,
   "metadata": {},
   "outputs": [
    {
     "data": {
      "text/html": [
       "<div>\n",
       "<style scoped>\n",
       "    .dataframe tbody tr th:only-of-type {\n",
       "        vertical-align: middle;\n",
       "    }\n",
       "\n",
       "    .dataframe tbody tr th {\n",
       "        vertical-align: top;\n",
       "    }\n",
       "\n",
       "    .dataframe thead th {\n",
       "        text-align: right;\n",
       "    }\n",
       "</style>\n",
       "<table border=\"1\" class=\"dataframe\">\n",
       "  <thead>\n",
       "    <tr style=\"text-align: right;\">\n",
       "      <th></th>\n",
       "      <th>LMCADS03</th>\n",
       "      <th>LMCADY</th>\n",
       "      <th>DXY</th>\n",
       "      <th>SPX</th>\n",
       "      <th>BCOM</th>\n",
       "      <th>MXWD</th>\n",
       "      <th>XAU</th>\n",
       "      <th>XAG</th>\n",
       "      <th>LMCADY_acu_5d</th>\n",
       "      <th>LMCADY_std_5d</th>\n",
       "    </tr>\n",
       "  </thead>\n",
       "  <tbody>\n",
       "    <tr>\n",
       "      <th>count</th>\n",
       "      <td>5539.000000</td>\n",
       "      <td>5539.000000</td>\n",
       "      <td>5539.000000</td>\n",
       "      <td>5539.000000</td>\n",
       "      <td>5539.000000</td>\n",
       "      <td>5539.000000</td>\n",
       "      <td>5539.000000</td>\n",
       "      <td>5539.000000</td>\n",
       "      <td>5539.000000</td>\n",
       "      <td>5539.000000</td>\n",
       "    </tr>\n",
       "    <tr>\n",
       "      <th>mean</th>\n",
       "      <td>-0.000185</td>\n",
       "      <td>-0.000178</td>\n",
       "      <td>0.000007</td>\n",
       "      <td>-0.000252</td>\n",
       "      <td>0.000072</td>\n",
       "      <td>-0.000205</td>\n",
       "      <td>-0.000274</td>\n",
       "      <td>-0.000106</td>\n",
       "      <td>-0.000867</td>\n",
       "      <td>0.014218</td>\n",
       "    </tr>\n",
       "    <tr>\n",
       "      <th>std</th>\n",
       "      <td>0.016059</td>\n",
       "      <td>0.016464</td>\n",
       "      <td>0.004793</td>\n",
       "      <td>0.011794</td>\n",
       "      <td>0.010250</td>\n",
       "      <td>0.009880</td>\n",
       "      <td>0.010722</td>\n",
       "      <td>0.019587</td>\n",
       "      <td>0.034782</td>\n",
       "      <td>0.008721</td>\n",
       "    </tr>\n",
       "    <tr>\n",
       "      <th>min</th>\n",
       "      <td>-0.112019</td>\n",
       "      <td>-0.110645</td>\n",
       "      <td>-0.024921</td>\n",
       "      <td>-0.103782</td>\n",
       "      <td>-0.054910</td>\n",
       "      <td>-0.085172</td>\n",
       "      <td>-0.097378</td>\n",
       "      <td>-0.123485</td>\n",
       "      <td>-0.185825</td>\n",
       "      <td>0.000805</td>\n",
       "    </tr>\n",
       "    <tr>\n",
       "      <th>25%</th>\n",
       "      <td>-0.008649</td>\n",
       "      <td>-0.008880</td>\n",
       "      <td>-0.002635</td>\n",
       "      <td>-0.005469</td>\n",
       "      <td>-0.005554</td>\n",
       "      <td>-0.004878</td>\n",
       "      <td>-0.005978</td>\n",
       "      <td>-0.009770</td>\n",
       "      <td>-0.021102</td>\n",
       "      <td>0.008616</td>\n",
       "    </tr>\n",
       "    <tr>\n",
       "      <th>50%</th>\n",
       "      <td>0.000000</td>\n",
       "      <td>0.000000</td>\n",
       "      <td>0.000000</td>\n",
       "      <td>-0.000390</td>\n",
       "      <td>0.000000</td>\n",
       "      <td>-0.000643</td>\n",
       "      <td>-0.000497</td>\n",
       "      <td>-0.000771</td>\n",
       "      <td>-0.001844</td>\n",
       "      <td>0.012148</td>\n",
       "    </tr>\n",
       "    <tr>\n",
       "      <th>75%</th>\n",
       "      <td>0.007562</td>\n",
       "      <td>0.007760</td>\n",
       "      <td>0.002658</td>\n",
       "      <td>0.003949</td>\n",
       "      <td>0.005375</td>\n",
       "      <td>0.003807</td>\n",
       "      <td>0.004908</td>\n",
       "      <td>0.008074</td>\n",
       "      <td>0.017065</td>\n",
       "      <td>0.017520</td>\n",
       "    </tr>\n",
       "    <tr>\n",
       "      <th>max</th>\n",
       "      <td>0.109603</td>\n",
       "      <td>0.109134</td>\n",
       "      <td>0.027541</td>\n",
       "      <td>0.136158</td>\n",
       "      <td>0.066117</td>\n",
       "      <td>0.105134</td>\n",
       "      <td>0.099792</td>\n",
       "      <td>0.226116</td>\n",
       "      <td>0.259832</td>\n",
       "      <td>0.091981</td>\n",
       "    </tr>\n",
       "  </tbody>\n",
       "</table>\n",
       "</div>"
      ],
      "text/plain": [
       "          LMCADS03       LMCADY          DXY          SPX         BCOM  \\\n",
       "count  5539.000000  5539.000000  5539.000000  5539.000000  5539.000000   \n",
       "mean     -0.000185    -0.000178     0.000007    -0.000252     0.000072   \n",
       "std       0.016059     0.016464     0.004793     0.011794     0.010250   \n",
       "min      -0.112019    -0.110645    -0.024921    -0.103782    -0.054910   \n",
       "25%      -0.008649    -0.008880    -0.002635    -0.005469    -0.005554   \n",
       "50%       0.000000     0.000000     0.000000    -0.000390     0.000000   \n",
       "75%       0.007562     0.007760     0.002658     0.003949     0.005375   \n",
       "max       0.109603     0.109134     0.027541     0.136158     0.066117   \n",
       "\n",
       "              MXWD          XAU          XAG  LMCADY_acu_5d  LMCADY_std_5d  \n",
       "count  5539.000000  5539.000000  5539.000000    5539.000000    5539.000000  \n",
       "mean     -0.000205    -0.000274    -0.000106      -0.000867       0.014218  \n",
       "std       0.009880     0.010722     0.019587       0.034782       0.008721  \n",
       "min      -0.085172    -0.097378    -0.123485      -0.185825       0.000805  \n",
       "25%      -0.004878    -0.005978    -0.009770      -0.021102       0.008616  \n",
       "50%      -0.000643    -0.000497    -0.000771      -0.001844       0.012148  \n",
       "75%       0.003807     0.004908     0.008074       0.017065       0.017520  \n",
       "max       0.105134     0.099792     0.226116       0.259832       0.091981  "
      ]
     },
     "execution_count": 2,
     "metadata": {},
     "output_type": "execute_result"
    }
   ],
   "source": [
    "df = pd.read_csv('./input/copper_returns_5d_final.csv')\n",
    "df.describe()"
   ]
  },
  {
   "cell_type": "code",
   "execution_count": 3,
   "metadata": {},
   "outputs": [
    {
     "name": "stdout",
     "output_type": "stream",
     "text": [
      "(5539, 8)\n"
     ]
    },
    {
     "data": {
      "text/plain": [
       "array([[0.51105054, 0.50820092, 0.46040927, ..., 0.45376117, 0.47765483,\n",
       "        0.37989689],\n",
       "       [0.50214433, 0.50261079, 0.51343716, ..., 0.46015831, 0.47895721,\n",
       "        0.35204686],\n",
       "       [0.54819756, 0.54585012, 0.39836873, ..., 0.46113695, 0.53109618,\n",
       "        0.36137883],\n",
       "       ...,\n",
       "       [0.45696148, 0.45698224, 0.56849407, ..., 0.35097823, 0.49387949,\n",
       "        0.34883688],\n",
       "       [0.44663175, 0.44252277, 0.56989819, ..., 0.42771448, 0.41879554,\n",
       "        0.31110092],\n",
       "       [0.42031426, 0.41407919, 0.27142421, ..., 0.32700141, 0.52319187,\n",
       "        0.33065703]])"
      ]
     },
     "execution_count": 3,
     "metadata": {},
     "output_type": "execute_result"
    }
   ],
   "source": [
    "scaler = MinMaxScaler()\n",
    "scaled_features = scaler.fit_transform(df.drop(['Date', 'LMCADY_std_5d', 'LMCADY_acu_5d'], axis=1))\n",
    "print(scaled_features.shape)\n",
    "scaled_features"
   ]
  },
  {
   "cell_type": "code",
   "execution_count": 4,
   "metadata": {},
   "outputs": [],
   "source": [
    "def crearSecuencias(data, n_steps):\n",
    "    X, y = [], []\n",
    "    try:\n",
    "        data = data.values  # Asegurarse de que 'data' es un array de NumPy\n",
    "    except:\n",
    "        pass\n",
    "    for i in range(n_steps, len(data)):\n",
    "        X.append(data[i-n_steps:i, :-2])  # las variables excepto los target\n",
    "        y.append(data[i, -2:])            # los target\n",
    "    return np.array(X), np.array(y)"
   ]
  },
  {
   "cell_type": "code",
   "execution_count": 5,
   "metadata": {},
   "outputs": [
    {
     "data": {
      "text/plain": [
       "((5514, 25, 6), (5514, 2))"
      ]
     },
     "execution_count": 5,
     "metadata": {},
     "output_type": "execute_result"
    }
   ],
   "source": [
    "n_steps = 25  # ventana modificable\n",
    "X, y = crearSecuencias(scaled_features, n_steps)\n",
    "(X.shape, y.shape)\n"
   ]
  },
  {
   "cell_type": "code",
   "execution_count": 6,
   "metadata": {},
   "outputs": [
    {
     "name": "stdout",
     "output_type": "stream",
     "text": [
      "[[0.51105054 0.50820092 0.46040927 0.44423603 0.50432324 0.45376117]\n",
      " [0.50214433 0.50261079 0.51343716 0.44530546 0.40553668 0.46015831]\n",
      " [0.54819756 0.54585012 0.39836873 0.43838686 0.51559425 0.46113695]\n",
      " [0.49410693 0.49374752 0.36140662 0.41908875 0.4375622  0.41213303]\n",
      " [0.52996151 0.5302504  0.55430507 0.39575223 0.48212846 0.41553961]\n",
      " [0.5619997  0.56257651 0.43096597 0.40912256 0.46098249 0.43504885]\n",
      " [0.49701022 0.49452026 0.447426   0.40636799 0.41316342 0.42126043]\n",
      " [0.41368416 0.40945351 0.4621292  0.45972953 0.44443493 0.48198419]\n",
      " [0.52550391 0.52944731 0.36991284 0.44453469 0.44646772 0.46557395]\n",
      " [0.36897736 0.36294137 0.50655397 0.44057081 0.38628919 0.45033045]\n",
      " [0.5033649  0.5028788  0.45836768 0.38636589 0.46335062 0.40053972]\n",
      " [0.46712256 0.46496218 0.44538254 0.43721685 0.42892662 0.46484468]\n",
      " [0.53753126 0.53518463 0.49544358 0.45992226 0.47799601 0.45961024]\n",
      " [0.47228924 0.47030131 0.5769906  0.39002791 0.41787082 0.39867988]\n",
      " [0.46046999 0.45865672 0.55432041 0.4112173  0.40559091 0.41640271]\n",
      " [0.53254996 0.53331262 0.48053853 0.47545354 0.48415132 0.48751366]\n",
      " [0.48484982 0.48196184 0.48053694 0.43751364 0.41654549 0.44714063]\n",
      " [0.5001435  0.49559762 0.53008776 0.39942532 0.40977373 0.4078881 ]\n",
      " [0.48154347 0.47811841 0.44208974 0.41085467 0.44998967 0.4258089 ]\n",
      " [0.51906883 0.51460121 0.44753218 0.43945628 0.45395453 0.46536463]\n",
      " [0.50118998 0.49596693 0.47502953 0.4254353  0.3799691  0.43698282]\n",
      " [0.55954692 0.56519929 0.49522338 0.44837648 0.41999922 0.46146411]\n",
      " [0.51440303 0.5165903  0.47869725 0.43108481 0.54118718 0.44223604]\n",
      " [0.48311093 0.48041781 0.48419707 0.34632147 0.46552444 0.36117227]\n",
      " [0.48326391 0.4859449  0.48785792 0.4272723  0.39213482 0.44979989]]\n",
      "[[0.50214433 0.50261079 0.51343716 0.44530546 0.40553668 0.46015831]\n",
      " [0.54819756 0.54585012 0.39836873 0.43838686 0.51559425 0.46113695]\n",
      " [0.49410693 0.49374752 0.36140662 0.41908875 0.4375622  0.41213303]\n",
      " [0.52996151 0.5302504  0.55430507 0.39575223 0.48212846 0.41553961]\n",
      " [0.5619997  0.56257651 0.43096597 0.40912256 0.46098249 0.43504885]\n",
      " [0.49701022 0.49452026 0.447426   0.40636799 0.41316342 0.42126043]\n",
      " [0.41368416 0.40945351 0.4621292  0.45972953 0.44443493 0.48198419]\n",
      " [0.52550391 0.52944731 0.36991284 0.44453469 0.44646772 0.46557395]\n",
      " [0.36897736 0.36294137 0.50655397 0.44057081 0.38628919 0.45033045]\n",
      " [0.5033649  0.5028788  0.45836768 0.38636589 0.46335062 0.40053972]\n",
      " [0.46712256 0.46496218 0.44538254 0.43721685 0.42892662 0.46484468]\n",
      " [0.53753126 0.53518463 0.49544358 0.45992226 0.47799601 0.45961024]\n",
      " [0.47228924 0.47030131 0.5769906  0.39002791 0.41787082 0.39867988]\n",
      " [0.46046999 0.45865672 0.55432041 0.4112173  0.40559091 0.41640271]\n",
      " [0.53254996 0.53331262 0.48053853 0.47545354 0.48415132 0.48751366]\n",
      " [0.48484982 0.48196184 0.48053694 0.43751364 0.41654549 0.44714063]\n",
      " [0.5001435  0.49559762 0.53008776 0.39942532 0.40977373 0.4078881 ]\n",
      " [0.48154347 0.47811841 0.44208974 0.41085467 0.44998967 0.4258089 ]\n",
      " [0.51906883 0.51460121 0.44753218 0.43945628 0.45395453 0.46536463]\n",
      " [0.50118998 0.49596693 0.47502953 0.4254353  0.3799691  0.43698282]\n",
      " [0.55954692 0.56519929 0.49522338 0.44837648 0.41999922 0.46146411]\n",
      " [0.51440303 0.5165903  0.47869725 0.43108481 0.54118718 0.44223604]\n",
      " [0.48311093 0.48041781 0.48419707 0.34632147 0.46552444 0.36117227]\n",
      " [0.48326391 0.4859449  0.48785792 0.4272723  0.39213482 0.44979989]\n",
      " [0.47067942 0.46536342 0.51348882 0.45771402 0.48982351 0.46426598]]\n"
     ]
    }
   ],
   "source": [
    "# verificar que haya secuencia\n",
    "print(X[0])\n",
    "print(X[1])"
   ]
  },
  {
   "cell_type": "code",
   "execution_count": 7,
   "metadata": {},
   "outputs": [
    {
     "data": {
      "text/plain": [
       "array([[0.47584125, 0.35551757],\n",
       "       [0.48477789, 0.40260268],\n",
       "       [0.47073196, 0.29257905],\n",
       "       ...,\n",
       "       [0.49387949, 0.34883688],\n",
       "       [0.41879554, 0.31110092],\n",
       "       [0.52319187, 0.33065703]])"
      ]
     },
     "execution_count": 7,
     "metadata": {},
     "output_type": "execute_result"
    }
   ],
   "source": [
    "y"
   ]
  },
  {
   "cell_type": "code",
   "execution_count": 8,
   "metadata": {},
   "outputs": [],
   "source": [
    "X_train, X_test, y_train, y_test = train_test_split(X, y, test_size=0.15, random_state=0)\n"
   ]
  },
  {
   "cell_type": "code",
   "execution_count": 9,
   "metadata": {},
   "outputs": [],
   "source": [
    "def rmse(y_true, y_pred):\n",
    "    return tf.sqrt(tf.reduce_mean(tf.square(y_true - y_pred)))"
   ]
  },
  {
   "cell_type": "code",
   "execution_count": 10,
   "metadata": {},
   "outputs": [
    {
     "name": "stderr",
     "output_type": "stream",
     "text": [
      "2024-04-28 03:34:07.105259: I external/local_xla/xla/stream_executor/cuda/cuda_executor.cc:901] successful NUMA node read from SysFS had negative value (-1), but there must be at least one NUMA node, so returning NUMA node zero. See more at https://github.com/torvalds/linux/blob/v6.0/Documentation/ABI/testing/sysfs-bus-pci#L344-L355\n",
      "2024-04-28 03:34:07.125172: I external/local_xla/xla/stream_executor/cuda/cuda_executor.cc:901] successful NUMA node read from SysFS had negative value (-1), but there must be at least one NUMA node, so returning NUMA node zero. See more at https://github.com/torvalds/linux/blob/v6.0/Documentation/ABI/testing/sysfs-bus-pci#L344-L355\n",
      "2024-04-28 03:34:07.125283: I external/local_xla/xla/stream_executor/cuda/cuda_executor.cc:901] successful NUMA node read from SysFS had negative value (-1), but there must be at least one NUMA node, so returning NUMA node zero. See more at https://github.com/torvalds/linux/blob/v6.0/Documentation/ABI/testing/sysfs-bus-pci#L344-L355\n",
      "2024-04-28 03:34:07.126667: I external/local_xla/xla/stream_executor/cuda/cuda_executor.cc:901] successful NUMA node read from SysFS had negative value (-1), but there must be at least one NUMA node, so returning NUMA node zero. See more at https://github.com/torvalds/linux/blob/v6.0/Documentation/ABI/testing/sysfs-bus-pci#L344-L355\n",
      "2024-04-28 03:34:07.126741: I external/local_xla/xla/stream_executor/cuda/cuda_executor.cc:901] successful NUMA node read from SysFS had negative value (-1), but there must be at least one NUMA node, so returning NUMA node zero. See more at https://github.com/torvalds/linux/blob/v6.0/Documentation/ABI/testing/sysfs-bus-pci#L344-L355\n",
      "2024-04-28 03:34:07.126788: I external/local_xla/xla/stream_executor/cuda/cuda_executor.cc:901] successful NUMA node read from SysFS had negative value (-1), but there must be at least one NUMA node, so returning NUMA node zero. See more at https://github.com/torvalds/linux/blob/v6.0/Documentation/ABI/testing/sysfs-bus-pci#L344-L355\n",
      "2024-04-28 03:34:07.822078: I external/local_xla/xla/stream_executor/cuda/cuda_executor.cc:901] successful NUMA node read from SysFS had negative value (-1), but there must be at least one NUMA node, so returning NUMA node zero. See more at https://github.com/torvalds/linux/blob/v6.0/Documentation/ABI/testing/sysfs-bus-pci#L344-L355\n",
      "2024-04-28 03:34:07.822184: I external/local_xla/xla/stream_executor/cuda/cuda_executor.cc:901] successful NUMA node read from SysFS had negative value (-1), but there must be at least one NUMA node, so returning NUMA node zero. See more at https://github.com/torvalds/linux/blob/v6.0/Documentation/ABI/testing/sysfs-bus-pci#L344-L355\n",
      "2024-04-28 03:34:07.822237: I external/local_xla/xla/stream_executor/cuda/cuda_executor.cc:901] successful NUMA node read from SysFS had negative value (-1), but there must be at least one NUMA node, so returning NUMA node zero. See more at https://github.com/torvalds/linux/blob/v6.0/Documentation/ABI/testing/sysfs-bus-pci#L344-L355\n",
      "2024-04-28 03:34:07.822281: I tensorflow/core/common_runtime/gpu/gpu_device.cc:1929] Created device /job:localhost/replica:0/task:0/device:GPU:0 with 7992 MB memory:  -> device: 0, name: NVIDIA GeForce RTX 3080, pci bus id: 0000:01:00.0, compute capability: 8.6\n"
     ]
    }
   ],
   "source": [
    "model = Sequential([\n",
    "\n",
    "    Conv1D(filters=128, kernel_size=2, activation='relu', input_shape=(X_train.shape[1], X_train.shape[2])),\n",
    "    BatchNormalization(),\n",
    "    MaxPooling1D(pool_size=2),\n",
    "\n",
    "    Conv1D(filters=64, kernel_size=2, activation='relu'),\n",
    "    BatchNormalization(),\n",
    "    MaxPooling1D(pool_size=2),\n",
    "\n",
    "    Conv1D(filters=32, kernel_size=2, activation='relu'),\n",
    "    BatchNormalization(),\n",
    "    MaxPooling1D(pool_size=2),\n",
    "\n",
    "    Flatten(),\n",
    "\n",
    "    Dense(100, activation='relu'),\n",
    "    Dropout(0.5),\n",
    "\n",
    "    Dense(50, activation='relu'),\n",
    "    Dropout(0.5),\n",
    "\n",
    "    Dense(2)\n",
    "    \n",
    "])\n",
    "\n",
    "initial_learning_rate = 0.0001\n",
    "optimizer = Adam(learning_rate=initial_learning_rate)\n",
    "\n",
    "model.compile(optimizer=optimizer, loss='mse', metrics=[rmse])\n"
   ]
  },
  {
   "cell_type": "code",
   "execution_count": 11,
   "metadata": {},
   "outputs": [
    {
     "name": "stdout",
     "output_type": "stream",
     "text": [
      "Epoch 1/50\n"
     ]
    },
    {
     "name": "stderr",
     "output_type": "stream",
     "text": [
      "2024-04-28 03:34:09.455790: I external/local_xla/xla/stream_executor/cuda/cuda_dnn.cc:454] Loaded cuDNN version 8904\n",
      "2024-04-28 03:34:09.875412: I external/local_tsl/tsl/platform/default/subprocess.cc:304] Start cannot spawn child process: No such file or directory\n",
      "2024-04-28 03:34:09.929399: I external/local_tsl/tsl/platform/default/subprocess.cc:304] Start cannot spawn child process: No such file or directory\n",
      "2024-04-28 03:34:10.528574: I external/local_xla/xla/service/service.cc:168] XLA service 0x700a98009350 initialized for platform CUDA (this does not guarantee that XLA will be used). Devices:\n",
      "2024-04-28 03:34:10.528587: I external/local_xla/xla/service/service.cc:176]   StreamExecutor device (0): NVIDIA GeForce RTX 3080, Compute Capability 8.6\n",
      "2024-04-28 03:34:10.531796: I tensorflow/compiler/mlir/tensorflow/utils/dump_mlir_util.cc:269] disabling MLIR crash reproducer, set env var `MLIR_CRASH_REPRODUCER_DIRECTORY` to enable.\n",
      "WARNING: All log messages before absl::InitializeLog() is called are written to STDERR\n",
      "I0000 00:00:1714293250.585273   60114 device_compiler.h:186] Compiled cluster using XLA!  This line is logged at most once for the lifetime of the process.\n"
     ]
    },
    {
     "name": "stdout",
     "output_type": "stream",
     "text": [
      "63/63 [==============================] - 4s 11ms/step - loss: 2.6375 - rmse: 1.6062 - val_loss: 0.3044 - val_rmse: 0.5517\n",
      "Epoch 2/50\n",
      "63/63 [==============================] - 0s 3ms/step - loss: 1.9544 - rmse: 1.3853 - val_loss: 0.3336 - val_rmse: 0.5776\n",
      "Epoch 3/50\n",
      "63/63 [==============================] - 0s 3ms/step - loss: 1.4070 - rmse: 1.1758 - val_loss: 0.3091 - val_rmse: 0.5559\n",
      "Epoch 4/50\n",
      "63/63 [==============================] - 0s 3ms/step - loss: 1.1480 - rmse: 1.0650 - val_loss: 0.2617 - val_rmse: 0.5115\n",
      "Epoch 5/50\n",
      "63/63 [==============================] - 0s 2ms/step - loss: 0.9626 - rmse: 0.9727 - val_loss: 0.2077 - val_rmse: 0.4557\n",
      "Epoch 6/50\n",
      "63/63 [==============================] - 0s 2ms/step - loss: 0.7967 - rmse: 0.8844 - val_loss: 0.1518 - val_rmse: 0.3895\n",
      "Epoch 7/50\n",
      "63/63 [==============================] - 0s 2ms/step - loss: 0.6699 - rmse: 0.8169 - val_loss: 0.1310 - val_rmse: 0.3618\n",
      "Epoch 8/50\n",
      "63/63 [==============================] - 0s 2ms/step - loss: 0.5557 - rmse: 0.7447 - val_loss: 0.1027 - val_rmse: 0.3203\n",
      "Epoch 9/50\n",
      "63/63 [==============================] - 0s 3ms/step - loss: 0.5148 - rmse: 0.7132 - val_loss: 0.0780 - val_rmse: 0.2790\n",
      "Epoch 10/50\n",
      "63/63 [==============================] - 0s 2ms/step - loss: 0.4496 - rmse: 0.6664 - val_loss: 0.0687 - val_rmse: 0.2616\n",
      "Epoch 11/50\n",
      "63/63 [==============================] - 0s 2ms/step - loss: 0.3992 - rmse: 0.6290 - val_loss: 0.0616 - val_rmse: 0.2479\n",
      "Epoch 12/50\n",
      "63/63 [==============================] - 0s 2ms/step - loss: 0.3510 - rmse: 0.5895 - val_loss: 0.0604 - val_rmse: 0.2455\n",
      "Epoch 13/50\n",
      "63/63 [==============================] - 0s 2ms/step - loss: 0.3301 - rmse: 0.5716 - val_loss: 0.0594 - val_rmse: 0.2433\n",
      "Epoch 14/50\n",
      "63/63 [==============================] - 0s 2ms/step - loss: 0.2971 - rmse: 0.5431 - val_loss: 0.0566 - val_rmse: 0.2376\n",
      "Epoch 15/50\n",
      "63/63 [==============================] - 0s 2ms/step - loss: 0.2569 - rmse: 0.5043 - val_loss: 0.0523 - val_rmse: 0.2284\n",
      "Epoch 16/50\n",
      "63/63 [==============================] - 0s 2ms/step - loss: 0.2378 - rmse: 0.4843 - val_loss: 0.0521 - val_rmse: 0.2280\n",
      "Epoch 17/50\n",
      "63/63 [==============================] - 0s 2ms/step - loss: 0.2098 - rmse: 0.4566 - val_loss: 0.0507 - val_rmse: 0.2249\n",
      "Epoch 18/50\n",
      "63/63 [==============================] - 0s 2ms/step - loss: 0.1963 - rmse: 0.4398 - val_loss: 0.0484 - val_rmse: 0.2196\n",
      "Epoch 19/50\n",
      "63/63 [==============================] - 0s 2ms/step - loss: 0.1893 - rmse: 0.4326 - val_loss: 0.0484 - val_rmse: 0.2196\n",
      "Epoch 20/50\n",
      "63/63 [==============================] - 0s 2ms/step - loss: 0.1703 - rmse: 0.4109 - val_loss: 0.0471 - val_rmse: 0.2168\n",
      "Epoch 21/50\n",
      "63/63 [==============================] - 0s 2ms/step - loss: 0.1652 - rmse: 0.4040 - val_loss: 0.0461 - val_rmse: 0.2145\n",
      "Epoch 22/50\n",
      "63/63 [==============================] - 0s 2ms/step - loss: 0.1528 - rmse: 0.3897 - val_loss: 0.0449 - val_rmse: 0.2116\n",
      "Epoch 23/50\n",
      "63/63 [==============================] - 0s 2ms/step - loss: 0.1409 - rmse: 0.3743 - val_loss: 0.0437 - val_rmse: 0.2086\n",
      "Epoch 24/50\n",
      "63/63 [==============================] - 0s 2ms/step - loss: 0.1311 - rmse: 0.3602 - val_loss: 0.0429 - val_rmse: 0.2069\n",
      "Epoch 25/50\n",
      "63/63 [==============================] - 0s 2ms/step - loss: 0.1233 - rmse: 0.3499 - val_loss: 0.0417 - val_rmse: 0.2040\n",
      "Epoch 26/50\n",
      "63/63 [==============================] - 0s 2ms/step - loss: 0.1154 - rmse: 0.3404 - val_loss: 0.0410 - val_rmse: 0.2022\n",
      "Epoch 27/50\n",
      "63/63 [==============================] - 0s 3ms/step - loss: 0.1090 - rmse: 0.3279 - val_loss: 0.0405 - val_rmse: 0.2010\n",
      "Epoch 28/50\n",
      "63/63 [==============================] - 0s 2ms/step - loss: 0.1050 - rmse: 0.3218 - val_loss: 0.0395 - val_rmse: 0.1985\n",
      "Epoch 29/50\n",
      "63/63 [==============================] - 0s 2ms/step - loss: 0.1000 - rmse: 0.3143 - val_loss: 0.0381 - val_rmse: 0.1947\n",
      "Epoch 30/50\n",
      "63/63 [==============================] - 0s 2ms/step - loss: 0.0965 - rmse: 0.3099 - val_loss: 0.0379 - val_rmse: 0.1944\n",
      "Epoch 31/50\n",
      "63/63 [==============================] - 0s 2ms/step - loss: 0.0897 - rmse: 0.2981 - val_loss: 0.0363 - val_rmse: 0.1903\n",
      "Epoch 32/50\n",
      "63/63 [==============================] - 0s 3ms/step - loss: 0.0821 - rmse: 0.2856 - val_loss: 0.0341 - val_rmse: 0.1843\n",
      "Epoch 33/50\n",
      "63/63 [==============================] - 0s 2ms/step - loss: 0.0807 - rmse: 0.2823 - val_loss: 0.0337 - val_rmse: 0.1833\n",
      "Epoch 34/50\n",
      "63/63 [==============================] - 0s 2ms/step - loss: 0.0787 - rmse: 0.2782 - val_loss: 0.0329 - val_rmse: 0.1812\n",
      "Epoch 35/50\n",
      "63/63 [==============================] - 0s 2ms/step - loss: 0.0752 - rmse: 0.2732 - val_loss: 0.0320 - val_rmse: 0.1784\n",
      "Epoch 36/50\n",
      "63/63 [==============================] - 0s 2ms/step - loss: 0.0731 - rmse: 0.2692 - val_loss: 0.0308 - val_rmse: 0.1753\n",
      "Epoch 37/50\n",
      "63/63 [==============================] - 0s 2ms/step - loss: 0.0641 - rmse: 0.2526 - val_loss: 0.0305 - val_rmse: 0.1743\n",
      "Epoch 38/50\n",
      "63/63 [==============================] - 0s 2ms/step - loss: 0.0611 - rmse: 0.2465 - val_loss: 0.0294 - val_rmse: 0.1711\n",
      "Epoch 39/50\n",
      "63/63 [==============================] - 0s 2ms/step - loss: 0.0613 - rmse: 0.2461 - val_loss: 0.0281 - val_rmse: 0.1674\n",
      "Epoch 40/50\n",
      "63/63 [==============================] - 0s 2ms/step - loss: 0.0590 - rmse: 0.2414 - val_loss: 0.0270 - val_rmse: 0.1640\n",
      "Epoch 41/50\n",
      "63/63 [==============================] - 0s 3ms/step - loss: 0.0562 - rmse: 0.2361 - val_loss: 0.0275 - val_rmse: 0.1655\n",
      "Epoch 42/50\n",
      "63/63 [==============================] - 0s 2ms/step - loss: 0.0546 - rmse: 0.2335 - val_loss: 0.0273 - val_rmse: 0.1648\n",
      "Epoch 43/50\n",
      "63/63 [==============================] - 0s 2ms/step - loss: 0.0495 - rmse: 0.2206 - val_loss: 0.0256 - val_rmse: 0.1598\n",
      "Epoch 44/50\n",
      "63/63 [==============================] - 0s 2ms/step - loss: 0.0487 - rmse: 0.2190 - val_loss: 0.0250 - val_rmse: 0.1577\n",
      "Epoch 45/50\n",
      "63/63 [==============================] - 0s 3ms/step - loss: 0.0461 - rmse: 0.2138 - val_loss: 0.0239 - val_rmse: 0.1541\n",
      "Epoch 46/50\n",
      "63/63 [==============================] - 0s 3ms/step - loss: 0.0456 - rmse: 0.2132 - val_loss: 0.0229 - val_rmse: 0.1509\n",
      "Epoch 47/50\n",
      "63/63 [==============================] - 0s 3ms/step - loss: 0.0433 - rmse: 0.2080 - val_loss: 0.0218 - val_rmse: 0.1474\n",
      "Epoch 48/50\n",
      "63/63 [==============================] - 0s 3ms/step - loss: 0.0435 - rmse: 0.2075 - val_loss: 0.0215 - val_rmse: 0.1464\n",
      "Epoch 49/50\n",
      "63/63 [==============================] - 0s 3ms/step - loss: 0.0404 - rmse: 0.1998 - val_loss: 0.0204 - val_rmse: 0.1424\n",
      "Epoch 50/50\n",
      "63/63 [==============================] - 0s 2ms/step - loss: 0.0379 - rmse: 0.1939 - val_loss: 0.0205 - val_rmse: 0.1427\n"
     ]
    }
   ],
   "source": [
    "history = model.fit(X_train, y_train, epochs=50, verbose=1, validation_split=0.15,batch_size=64)\n"
   ]
  },
  {
   "cell_type": "code",
   "execution_count": 12,
   "metadata": {},
   "outputs": [
    {
     "name": "stdout",
     "output_type": "stream",
     "text": [
      "26/26 [==============================] - 0s 4ms/step - loss: 0.0202 - rmse: 0.1419\n",
      "Loss on test data: [0.020235074684023857, 0.1419147402048111]\n"
     ]
    }
   ],
   "source": [
    "loss = model.evaluate(X_test, y_test)\n",
    "print(f'Loss on test data: {loss}')\n"
   ]
  }
 ],
 "metadata": {
  "kernelspec": {
   "display_name": "Python 3",
   "language": "python",
   "name": "python3"
  },
  "language_info": {
   "codemirror_mode": {
    "name": "ipython",
    "version": 3
   },
   "file_extension": ".py",
   "mimetype": "text/x-python",
   "name": "python",
   "nbconvert_exporter": "python",
   "pygments_lexer": "ipython3",
   "version": "3.10.12"
  }
 },
 "nbformat": 4,
 "nbformat_minor": 2
}
